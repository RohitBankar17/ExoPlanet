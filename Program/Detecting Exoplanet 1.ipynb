{
 "cells": [
  {
   "cell_type": "code",
   "execution_count": 1,
   "metadata": {},
   "outputs": [],
   "source": [
    "import pandas as pd\n",
    "import numpy as np\n",
    "import matplotlib.pyplot as plt"
   ]
  },
  {
   "cell_type": "code",
   "execution_count": 2,
   "metadata": {},
   "outputs": [],
   "source": [
    "import astropy "
   ]
  },
  {
   "cell_type": "code",
   "execution_count": 3,
   "metadata": {},
   "outputs": [],
   "source": [
    "from astropy.io import fits"
   ]
  },
  {
   "cell_type": "code",
   "execution_count": 4,
   "metadata": {},
   "outputs": [],
   "source": [
    "hdul=astropy.io.fits.open(r'C:\\Users\\dell\\Desktop\\Exoplanets\\0kepler.fits')"
   ]
  },
  {
   "cell_type": "code",
   "execution_count": 5,
   "metadata": {},
   "outputs": [
    {
     "name": "stdout",
     "output_type": "stream",
     "text": [
      "Filename: C:\\Users\\dell\\Desktop\\Exoplanets\\0kepler.fits\n",
      "No.    Name      Ver    Type      Cards   Dimensions   Format\n",
      "  0  PRIMARY       1 PrimaryHDU      58   ()      \n",
      "  1  TARGETTABLES    1 BinTableHDU    287   4757R x 13C   [D, E, J, 64J, 64E, 64E, 64E, 64E, 64E, J, E, E, 40E]   \n",
      "  2  APERTURE      1 ImageHDU        48   (8, 8)   int32   \n"
     ]
    }
   ],
   "source": [
    "hdul.info()\n"
   ]
  },
  {
   "cell_type": "code",
   "execution_count": 6,
   "metadata": {},
   "outputs": [],
   "source": [
    "data=hdul[1].data"
   ]
  },
  {
   "cell_type": "code",
   "execution_count": 7,
   "metadata": {},
   "outputs": [
    {
     "data": {
      "text/html": [
       "<i>Table length=4757</i>\n",
       "<table id=\"table2293145070840\" class=\"table-striped table-bordered table-condensed\">\n",
       "<thead><tr><th>TIME</th><th>TIMECORR</th><th>CADENCENO</th><th>RAW_CNTS [8,8]</th><th>FLUX [8,8]</th><th>FLUX_ERR [8,8]</th><th>FLUX_BKG [8,8]</th><th>FLUX_BKG_ERR [8,8]</th><th>COSMIC_RAYS [8,8]</th><th>QUALITY</th><th>POS_CORR1</th><th>POS_CORR2</th><th>RB_LEVEL [8,5]</th></tr></thead>\n",
       "<thead><tr><th>float64</th><th>float32</th><th>int32</th><th>int32</th><th>float32</th><th>float32</th><th>float32</th><th>float32</th><th>float32</th><th>int32</th><th>float32</th><th>float32</th><th>float32</th></tr></thead>\n",
       "<tr><td>1274.1395732864694</td><td>0.0022160665</td><td>57024</td><td>422568 .. 421938</td><td>41.62306 .. 0.49973154</td><td>1.0728891 .. 1.077012</td><td>166.55408 .. 166.43286</td><td>0.05004611 .. 0.05002594</td><td>nan .. nan</td><td>0</td><td>0.018315108</td><td>-0.052525554</td><td>0.16289888 .. 0.22096205</td></tr>\n",
       "<tr><td>1274.1600076621398</td><td>0.0022167421</td><td>57025</td><td>422568 .. 421938</td><td>41.12269 .. 0.40782627</td><td>1.0728829 .. 1.0770054</td><td>166.5374 .. 166.41513</td><td>0.05014606 .. 0.050128847</td><td>nan .. nan</td><td>0</td><td>0.018484294</td><td>-0.052207224</td><td>0.19264737 .. 0.28943384</td></tr>\n",
       "<tr><td>1274.1804419378168</td><td>0.0022174178</td><td>57026</td><td>422598 .. 421938</td><td>43.76557 .. 0.18402159</td><td>1.0735049 .. 1.0770029</td><td>166.44955 .. 166.32483</td><td>0.05003051 .. 0.05001035</td><td>nan .. nan</td><td>0</td><td>0.019123403</td><td>-0.052663438</td><td>0.27529782 .. 0.28463778</td></tr>\n",
       "<tr><td>1274.2008761132602</td><td>0.0022180933</td><td>57027</td><td>422588 .. 421938</td><td>42.315395 .. 0.26509726</td><td>1.073293 .. 1.076999</td><td>166.54523 .. 166.4112</td><td>0.05008907 .. 0.05007079</td><td>nan .. nan</td><td>0</td><td>0.018382369</td><td>-0.052379206</td><td>0.2684216 .. 0.297417</td></tr>\n",
       "<tr><td>1274.2213104886978</td><td>0.0022187687</td><td>57028</td><td>422598 .. 421948</td><td>44.014534 .. 1.2062478</td><td>1.0735335 .. 1.0772417</td><td>166.4691 .. 166.34389</td><td>0.0501434 .. 0.05012465</td><td>nan .. nan</td><td>0</td><td>0.018495856</td><td>-0.052108437</td><td>0.2286186 .. 0.25180414</td></tr>\n",
       "<tr><td>1274.241744763909</td><td>0.002219444</td><td>57029</td><td>422568 .. 421948</td><td>41.391273 .. 1.2802707</td><td>1.0729017 .. 1.077236</td><td>166.31474 .. 166.18504</td><td>0.05008833 .. 0.05006977</td><td>nan .. nan</td><td>0</td><td>0.018224027</td><td>-0.052350488</td><td>0.39019263 .. 0.26411867</td></tr>\n",
       "<tr><td>1274.2621789388868</td><td>0.002220119</td><td>57030</td><td>422578 .. 421948</td><td>42.48821 .. 1.054324</td><td>1.0731113 .. 1.0772377</td><td>166.30768 .. 166.18295</td><td>0.050173055 .. 0.050154906</td><td>nan .. nan</td><td>0</td><td>0.018349223</td><td>-0.052344825</td><td>0.5112998 .. 0.2469991</td></tr>\n",
       "<tr><td>1274.282613313626</td><td>0.0022207936</td><td>57031</td><td>422578 .. 421928</td><td>42.352966 .. -0.14185241</td><td>1.0730971 .. 1.0768037</td><td>166.29778 .. 166.1702</td><td>0.050112143 .. 0.050093394</td><td>nan .. nan</td><td>0</td><td>0.018376438</td><td>-0.052232232</td><td>0.4343553 .. 0.23758848</td></tr>\n",
       "<tr><td>1274.3030475883716</td><td>0.0022214684</td><td>57032</td><td>422568 .. 421918</td><td>41.46061 .. -1.1491674</td><td>1.0728974 .. 1.0765978</td><td>166.49321 .. 166.36845</td><td>0.050078604 .. 0.050058566</td><td>nan .. nan</td><td>0</td><td>0.018625202</td><td>-0.051923815</td><td>0.2791416 .. 0.19262528</td></tr>\n",
       "<tr><td>1274.3234817628836</td><td>0.0022221429</td><td>57033</td><td>422598 .. 421938</td><td>43.407993 .. 0.32171997</td><td>1.0734785 .. 1.0769753</td><td>166.45732 .. 166.33437</td><td>0.050064333 .. 0.050044753</td><td>nan .. nan</td><td>0</td><td>0.018169546</td><td>-0.052420408</td><td>0.5364166 .. 0.16143346</td></tr>\n",
       "<tr><td>...</td><td>...</td><td>...</td><td>...</td><td>...</td><td>...</td><td>...</td><td>...</td><td>...</td><td>...</td><td>...</td><td>...</td><td>...</td></tr>\n",
       "<tr><td>1371.1385014707048</td><td>0.0028366507</td><td>61771</td><td>422418 .. 421828</td><td>37.58805 .. -0.83002836</td><td>1.0701488 .. 1.0750837</td><td>161.34215 .. 161.22073</td><td>0.05002243 .. 0.050005693</td><td>nan .. nan</td><td>0</td><td>-0.016656572</td><td>0.052003622</td><td>0.56058484 .. 0.1791574</td></tr>\n",
       "<tr><td>1371.158934579893</td><td>0.00283616</td><td>61772</td><td>422448 .. 421828</td><td>39.33092 .. -0.89958304</td><td>1.0706807 .. 1.0749875</td><td>161.24406 .. 161.11845</td><td>0.05001411 .. 0.04999613</td><td>nan .. nan</td><td>0</td><td>-0.016682742</td><td>0.052099768</td><td>0.46470705 .. 0.20251888</td></tr>\n",
       "<tr><td>1371.1793677888563</td><td>0.0028356689</td><td>61773</td><td>422408 .. 421848</td><td>36.782276 .. 0.85544145</td><td>1.0698986 .. 1.0754644</td><td>161.44621 .. 161.31557</td><td>0.049994648 .. 0.049978904</td><td>nan .. nan</td><td>0</td><td>-0.016614579</td><td>0.052007277</td><td>0.49890432 .. 0.1812276</td></tr>\n",
       "<tr><td>1371.1998007973525</td><td>0.0028351774</td><td>61774</td><td>422478 .. 421848</td><td>41.564323 .. 0.21653251</td><td>1.0713121 .. 1.0754158</td><td>161.48427 .. 161.35925</td><td>0.05001307 .. 0.049995042</td><td>nan .. nan</td><td>0</td><td>-0.01674044</td><td>0.051966228</td><td>0.4777425 .. 0.23629257</td></tr>\n",
       "<tr><td>1371.2202339058422</td><td>0.0028346858</td><td>61775</td><td>422418 .. 421848</td><td>36.78324 .. 0.2846039</td><td>1.0700588 .. 1.0754149</td><td>161.4009 .. 161.27686</td><td>0.05003411 .. 0.05001713</td><td>nan .. nan</td><td>0</td><td>-0.01661787</td><td>0.052173812</td><td>0.47231635 .. 0.24225403</td></tr>\n",
       "<tr><td>1371.2406670138735</td><td>0.0028341939</td><td>61776</td><td>422428 .. 421838</td><td>37.485313 .. -0.62803584</td><td>1.0702763 .. 1.0752127</td><td>161.41528 .. 161.28519</td><td>0.05000033 .. 0.049982302</td><td>nan .. nan</td><td>0</td><td>-0.016788343</td><td>0.05196953</td><td>0.67749023 .. 0.30842212</td></tr>\n",
       "<tr><td>1371.2611001219047</td><td>0.002833702</td><td>61777</td><td>422398 .. 421858</td><td>35.570747 .. 1.1410768</td><td>1.0696946 .. 1.0756818</td><td>161.3289 .. 161.19833</td><td>0.050017465 .. 0.05000115</td><td>nan .. nan</td><td>0</td><td>-0.016791942</td><td>0.05198775</td><td>0.45732388 .. 0.28823224</td></tr>\n",
       "<tr><td>1371.2815331297024</td><td>0.0028332097</td><td>61778</td><td>422408 .. 421838</td><td>36.47249 .. -0.41716692</td><td>1.069878 .. 1.0752319</td><td>161.31764 .. 161.19205</td><td>0.05004893 .. 0.050031815</td><td>nan .. nan</td><td>0</td><td>-0.016841084</td><td>0.05180503</td><td>0.46129516 .. 0.2086752</td></tr>\n",
       "<tr><td>1371.3019663370287</td><td>0.002832717</td><td>61779</td><td>422418 .. 421868</td><td>37.29352 .. 2.112343</td><td>1.0701501 .. 1.0759301</td><td>161.33644 .. 161.2101</td><td>0.05001126 .. 0.04999465</td><td>nan .. nan</td><td>0</td><td>-0.01678087</td><td>0.05189127</td><td>0.8034196 .. 0.24580099</td></tr>\n",
       "<tr><td>1371.3223994443615</td><td>0.0028322244</td><td>61780</td><td>422418 .. 421848</td><td>37.341427 .. 0.85849607</td><td>1.0701466 .. 1.0755041</td><td>161.55836 .. 161.4306</td><td>0.050045975 .. 0.050029337</td><td>nan .. nan</td><td>0</td><td>-0.016591879</td><td>0.052163083</td><td>0.51293457 .. 0.258524</td></tr>\n",
       "</table>"
      ],
      "text/plain": [
       "<Table length=4757>\n",
       "       TIME          TIMECORR   ...  POS_CORR2        RB_LEVEL [8,5]     \n",
       "     float64         float32    ...   float32            float32         \n",
       "------------------ ------------ ... ------------ ------------------------\n",
       "1274.1395732864694 0.0022160665 ... -0.052525554 0.16289888 .. 0.22096205\n",
       "1274.1600076621398 0.0022167421 ... -0.052207224 0.19264737 .. 0.28943384\n",
       "1274.1804419378168 0.0022174178 ... -0.052663438 0.27529782 .. 0.28463778\n",
       "1274.2008761132602 0.0022180933 ... -0.052379206    0.2684216 .. 0.297417\n",
       "1274.2213104886978 0.0022187687 ... -0.052108437  0.2286186 .. 0.25180414\n",
       " 1274.241744763909  0.002219444 ... -0.052350488 0.39019263 .. 0.26411867\n",
       "1274.2621789388868  0.002220119 ... -0.052344825   0.5112998 .. 0.2469991\n",
       " 1274.282613313626 0.0022207936 ... -0.052232232  0.4343553 .. 0.23758848\n",
       "1274.3030475883716 0.0022214684 ... -0.051923815  0.2791416 .. 0.19262528\n",
       "1274.3234817628836 0.0022221429 ... -0.052420408  0.5364166 .. 0.16143346\n",
       "               ...          ... ...          ...                      ...\n",
       "1371.1385014707048 0.0028366507 ...  0.052003622  0.56058484 .. 0.1791574\n",
       " 1371.158934579893   0.00283616 ...  0.052099768 0.46470705 .. 0.20251888\n",
       "1371.1793677888563 0.0028356689 ...  0.052007277  0.49890432 .. 0.1812276\n",
       "1371.1998007973525 0.0028351774 ...  0.051966228  0.4777425 .. 0.23629257\n",
       "1371.2202339058422 0.0028346858 ...  0.052173812 0.47231635 .. 0.24225403\n",
       "1371.2406670138735 0.0028341939 ...   0.05196953 0.67749023 .. 0.30842212\n",
       "1371.2611001219047  0.002833702 ...   0.05198775 0.45732388 .. 0.28823224\n",
       "1371.2815331297024 0.0028332097 ...   0.05180503  0.46129516 .. 0.2086752\n",
       "1371.3019663370287  0.002832717 ...   0.05189127  0.8034196 .. 0.24580099\n",
       "1371.3223994443615 0.0028322244 ...  0.052163083   0.51293457 .. 0.258524"
      ]
     },
     "execution_count": 7,
     "metadata": {},
     "output_type": "execute_result"
    }
   ],
   "source": [
    "Data=astropy.table.Table(data)\n",
    "Data"
   ]
  },
  {
   "cell_type": "code",
   "execution_count": 8,
   "metadata": {},
   "outputs": [
    {
     "data": {
      "text/plain": [
       "array([[1, 1, 1, 1, 1, 1, 1, 1],\n",
       "       [1, 1, 1, 1, 1, 1, 1, 1],\n",
       "       [1, 1, 1, 1, 1, 1, 1, 1],\n",
       "       [1, 1, 1, 1, 3, 1, 1, 1],\n",
       "       [1, 1, 1, 1, 3, 1, 1, 1],\n",
       "       [1, 1, 1, 1, 1, 1, 1, 1],\n",
       "       [1, 1, 1, 1, 1, 1, 1, 1],\n",
       "       [1, 1, 1, 1, 1, 1, 1, 1]])"
      ]
     },
     "execution_count": 8,
     "metadata": {},
     "output_type": "execute_result"
    }
   ],
   "source": [
    "hdul[2].data"
   ]
  },
  {
   "cell_type": "code",
   "execution_count": 9,
   "metadata": {},
   "outputs": [],
   "source": [
    "Flux=Data['FLUX']"
   ]
  },
  {
   "cell_type": "code",
   "execution_count": 10,
   "metadata": {},
   "outputs": [
    {
     "data": {
      "text/html": [
       "&lt;Column name=&apos;FLUX&apos; dtype=&apos;float32&apos; shape=(8, 8) length=4757&gt;\n",
       "<table>\n",
       "<tr><td>41.62306 .. 0.49973154</td></tr>\n",
       "<tr><td>41.12269 .. 0.40782627</td></tr>\n",
       "<tr><td>43.76557 .. 0.18402159</td></tr>\n",
       "<tr><td>42.315395 .. 0.26509726</td></tr>\n",
       "<tr><td>44.014534 .. 1.2062478</td></tr>\n",
       "<tr><td>41.391273 .. 1.2802707</td></tr>\n",
       "<tr><td>42.48821 .. 1.054324</td></tr>\n",
       "<tr><td>42.352966 .. -0.14185241</td></tr>\n",
       "<tr><td>41.46061 .. -1.1491674</td></tr>\n",
       "<tr><td>43.407993 .. 0.32171997</td></tr>\n",
       "<tr><td>40.77734 .. 1.6991936</td></tr>\n",
       "<tr><td>42.339935 .. 0.667563</td></tr>\n",
       "<tr><td>...</td></tr>\n",
       "<tr><td>36.42236 .. -0.13266979</td></tr>\n",
       "<tr><td>38.766598 .. 2.11939</td></tr>\n",
       "<tr><td>37.58805 .. -0.83002836</td></tr>\n",
       "<tr><td>39.33092 .. -0.89958304</td></tr>\n",
       "<tr><td>36.782276 .. 0.85544145</td></tr>\n",
       "<tr><td>41.564323 .. 0.21653251</td></tr>\n",
       "<tr><td>36.78324 .. 0.2846039</td></tr>\n",
       "<tr><td>37.485313 .. -0.62803584</td></tr>\n",
       "<tr><td>35.570747 .. 1.1410768</td></tr>\n",
       "<tr><td>36.47249 .. -0.41716692</td></tr>\n",
       "<tr><td>37.29352 .. 2.112343</td></tr>\n",
       "<tr><td>37.341427 .. 0.85849607</td></tr>\n",
       "</table>"
      ],
      "text/plain": [
       "<Column name='FLUX' dtype='float32' shape=(8, 8) length=4757>\n",
       "  41.62306 .. 0.49973154\n",
       "  41.12269 .. 0.40782627\n",
       "  43.76557 .. 0.18402159\n",
       " 42.315395 .. 0.26509726\n",
       "  44.014534 .. 1.2062478\n",
       "  41.391273 .. 1.2802707\n",
       "    42.48821 .. 1.054324\n",
       "42.352966 .. -0.14185241\n",
       "  41.46061 .. -1.1491674\n",
       " 43.407993 .. 0.32171997\n",
       "   40.77734 .. 1.6991936\n",
       "   42.339935 .. 0.667563\n",
       "                     ...\n",
       " 36.42236 .. -0.13266979\n",
       "    38.766598 .. 2.11939\n",
       " 37.58805 .. -0.83002836\n",
       " 39.33092 .. -0.89958304\n",
       " 36.782276 .. 0.85544145\n",
       " 41.564323 .. 0.21653251\n",
       "   36.78324 .. 0.2846039\n",
       "37.485313 .. -0.62803584\n",
       "  35.570747 .. 1.1410768\n",
       " 36.47249 .. -0.41716692\n",
       "    37.29352 .. 2.112343\n",
       " 37.341427 .. 0.85849607"
      ]
     },
     "execution_count": 10,
     "metadata": {},
     "output_type": "execute_result"
    }
   ],
   "source": [
    "Flux"
   ]
  },
  {
   "cell_type": "code",
   "execution_count": 11,
   "metadata": {},
   "outputs": [
    {
     "data": {
      "text/plain": [
       "array([[ 4.1122688e+01,  1.8670570e+01,  3.6771939e+00, -2.5833111e+00,\n",
       "         1.2452855e+00, -5.7467717e-01, -1.2874678e+00, -1.9661843e+00],\n",
       "       [ 2.9635899e+01,  1.1098923e+01,  3.9824564e+00,  8.0952911e+00,\n",
       "         3.4093441e+01,  6.0642977e+00, -8.0224150e-01, -2.7403088e+00],\n",
       "       [-4.0751204e+00, -6.9154882e-01,  2.7195797e+00,  1.6001163e+01,\n",
       "         5.8133194e+01,  1.8221640e+01,  1.7155374e+00,  1.5323224e+00],\n",
       "       [-2.0087287e+00, -1.2651491e-01,  1.9432758e+01,  1.2814172e+02,\n",
       "         2.6827371e+02,  8.0629608e+01,  1.9933876e+01,  6.5283943e+01],\n",
       "       [-2.8665700e+00,  9.4995648e-01,  2.5993305e+01,  1.8716953e+02,\n",
       "         3.9124197e+02,  9.2778450e+01,  1.9581608e+01,  1.4730751e+02],\n",
       "       [-2.6200631e-01, -6.8340796e-01, -8.6989295e-01,  8.8357668e+00,\n",
       "         1.5226157e+01,  1.0065807e+01,  5.2499275e+00,  3.3185523e+00],\n",
       "       [-1.1957932e+00, -1.9152908e+00, -3.1387457e-01, -1.1285719e+00,\n",
       "         6.0821967e+00,  1.2211412e+01,  2.7683992e+00, -1.6094588e+00],\n",
       "       [-3.3736117e+00, -4.0633140e+00, -1.7029502e+00, -4.1139132e-01,\n",
       "         6.9664702e+00,  2.2879593e+01,  2.7532143e+01,  4.0782627e-01]],\n",
       "      dtype=float32)"
      ]
     },
     "execution_count": 11,
     "metadata": {},
     "output_type": "execute_result"
    }
   ],
   "source": [
    "Flux[1]"
   ]
  },
  {
   "cell_type": "code",
   "execution_count": 12,
   "metadata": {},
   "outputs": [],
   "source": [
    "lstf=[]"
   ]
  },
  {
   "cell_type": "code",
   "execution_count": 13,
   "metadata": {},
   "outputs": [
    {
     "data": {
      "text/plain": [
       "array([[ 3.73414268e+01,  1.95777702e+01,  4.66965914e+00,\n",
       "        -3.47263432e+00,  1.14756191e+00, -1.18623698e+00,\n",
       "        -3.03560179e-02, -8.40092480e-01],\n",
       "       [ 3.57297974e+01,  1.07039537e+01,  4.29979324e+00,\n",
       "         4.45627308e+00,  2.70270672e+01,  7.56214190e+00,\n",
       "        -2.33990908e+00, -1.09759115e-01],\n",
       "       [-2.91063523e+00, -3.87264937e-01,  3.06683183e+00,\n",
       "         1.66085091e+01,  6.01850471e+01,  1.47688866e+01,\n",
       "         7.94402957e-02,  6.44355476e-01],\n",
       "       [-3.14702201e+00, -5.91115057e-01,  1.83075562e+01,\n",
       "         1.11482811e+02,  2.25145737e+02,  7.01675873e+01,\n",
       "         1.55738058e+01,  5.65005646e+01],\n",
       "       [-2.41587424e+00, -2.07945839e-01,  2.77311859e+01,\n",
       "         2.21383270e+02,  4.62047638e+02,  1.21507179e+02,\n",
       "         2.16473827e+01,  1.76861252e+02],\n",
       "       [-3.36514521e+00, -1.15336692e+00,  2.27138567e+00,\n",
       "         1.58166447e+01,  2.86426163e+01,  1.37123222e+01,\n",
       "         2.91855145e+00,  7.35260963e+00],\n",
       "       [ 2.00755382e+00, -1.69759309e+00, -2.12375450e+00,\n",
       "        -1.22046626e+00,  7.44744635e+00,  1.30365763e+01,\n",
       "         1.18104637e+00, -1.09695756e+00],\n",
       "       [-3.65258241e+00, -3.09979725e+00, -1.35050511e+00,\n",
       "         8.57124686e-01,  8.99360752e+00,  1.88349590e+01,\n",
       "         2.10622272e+01,  8.58496070e-01]], dtype=float32)"
      ]
     },
     "execution_count": 13,
     "metadata": {},
     "output_type": "execute_result"
    }
   ],
   "source": [
    "Flux[4756]"
   ]
  },
  {
   "cell_type": "code",
   "execution_count": 14,
   "metadata": {},
   "outputs": [],
   "source": [
    "for i in range(0,len(Flux)):\n",
    "    lstf.append(Flux[i][3][4]+Flux[i][4][4])"
   ]
  },
  {
   "cell_type": "code",
   "execution_count": 15,
   "metadata": {},
   "outputs": [],
   "source": [
    "Time=Data['TIME']"
   ]
  },
  {
   "cell_type": "code",
   "execution_count": 16,
   "metadata": {},
   "outputs": [],
   "source": [
    "lstt=[]"
   ]
  },
  {
   "cell_type": "code",
   "execution_count": 17,
   "metadata": {},
   "outputs": [],
   "source": [
    "for i in Time:\n",
    "    lstt.append(i)"
   ]
  },
  {
   "cell_type": "code",
   "execution_count": 18,
   "metadata": {},
   "outputs": [
    {
     "data": {
      "text/plain": [
       "4757"
      ]
     },
     "execution_count": 18,
     "metadata": {},
     "output_type": "execute_result"
    }
   ],
   "source": [
    "len(lstt)"
   ]
  },
  {
   "cell_type": "code",
   "execution_count": 19,
   "metadata": {},
   "outputs": [
    {
     "data": {
      "text/plain": [
       "4757"
      ]
     },
     "execution_count": 19,
     "metadata": {},
     "output_type": "execute_result"
    }
   ],
   "source": [
    "len(lstf)"
   ]
  },
  {
   "cell_type": "code",
   "execution_count": 20,
   "metadata": {},
   "outputs": [
    {
     "data": {
      "text/plain": [
       "list"
      ]
     },
     "execution_count": 20,
     "metadata": {},
     "output_type": "execute_result"
    }
   ],
   "source": [
    "type(lstt)"
   ]
  },
  {
   "cell_type": "code",
   "execution_count": 21,
   "metadata": {},
   "outputs": [
    {
     "data": {
      "text/plain": [
       "<matplotlib.legend.Legend at 0x215eb3b7978>"
      ]
     },
     "execution_count": 21,
     "metadata": {},
     "output_type": "execute_result"
    },
    {
     "data": {
      "image/png": "[encoded data removed]",
      "text/plain": [
       "<Figure size 432x288 with 1 Axes>"
      ]
     },
     "metadata": {
      "needs_background": "light"
     },
     "output_type": "display_data"
    }
   ],
   "source": [
    "plt.plot(lstt,lstf,label=['Time','Intensity'],marker='.')\n",
    "plt.legend()\n"
   ]
  },
  {
   "cell_type": "code",
   "execution_count": null,
   "metadata": {},
   "outputs": [],
   "source": []
  }
 ],
 "metadata": {
  "kernelspec": {
   "display_name": "Python 3",
   "language": "python",
   "name": "python3"
  },
  "language_info": {
   "codemirror_mode": {
    "name": "ipython",
    "version": 3
   },
   "file_extension": ".py",
   "mimetype": "text/x-python",
   "name": "python",
   "nbconvert_exporter": "python",
   "pygments_lexer": "ipython3",
   "version": "3.7.0"
  }
 },
 "nbformat": 4,
 "nbformat_minor": 2
}
