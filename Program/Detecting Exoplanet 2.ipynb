{
 "cells": [
  {
   "cell_type": "code",
   "execution_count": 1,
   "metadata": {},
   "outputs": [],
   "source": [
    "import pandas as pd\n",
    "import numpy as np\n",
    "import matplotlib.pyplot as plt"
   ]
  },
  {
   "cell_type": "code",
   "execution_count": 2,
   "metadata": {},
   "outputs": [],
   "source": [
    "import astropy "
   ]
  },
  {
   "cell_type": "code",
   "execution_count": 3,
   "metadata": {},
   "outputs": [],
   "source": [
    "from astropy.io import fits"
   ]
  },
  {
   "cell_type": "code",
   "execution_count": 4,
   "metadata": {},
   "outputs": [],
   "source": [
    "hdul=astropy.io.fits.open(r'C:\\Users\\dell\\Desktop\\Exoplanets\\01kepler.fits')"
   ]
  },
  {
   "cell_type": "code",
   "execution_count": 5,
   "metadata": {},
   "outputs": [
    {
     "name": "stdout",
     "output_type": "stream",
     "text": [
      "Filename: C:\\Users\\dell\\Desktop\\Exoplanets\\01kepler.fits\n",
      "No.    Name      Ver    Type      Cards   Dimensions   Format\n",
      "  0  PRIMARY       1 PrimaryHDU      58   ()      \n",
      "  1  LIGHTCURVE    1 BinTableHDU    155   14280R x 20C   [D, E, J, E, E, E, E, E, E, J, D, E, D, E, D, E, D, E, E, E]   \n",
      "  2  APERTURE      1 ImageHDU        48   (8, 9)   int32   \n"
     ]
    },
    {
     "data": {
      "text/html": [
       "<i>Table length=14280</i>\n",
       "<table id=\"table2488318165064\" class=\"table-striped table-bordered table-condensed\">\n",
       "<thead><tr><th>TIME</th><th>TIMECORR</th><th>CADENCENO</th><th>SAP_FLUX</th><th>SAP_FLUX_ERR</th><th>SAP_BKG</th><th>SAP_BKG_ERR</th><th>PDCSAP_FLUX</th><th>PDCSAP_FLUX_ERR</th><th>SAP_QUALITY</th><th>PSF_CENTR1</th><th>PSF_CENTR1_ERR</th><th>PSF_CENTR2</th><th>PSF_CENTR2_ERR</th><th>MOM_CENTR1</th><th>MOM_CENTR1_ERR</th><th>MOM_CENTR2</th><th>MOM_CENTR2_ERR</th><th>POS_CORR1</th><th>POS_CORR2</th></tr></thead>\n",
       "<thead><tr><th>float64</th><th>float32</th><th>int32</th><th>float32</th><th>float32</th><th>float32</th><th>float32</th><th>float32</th><th>float32</th><th>int32</th><th>float64</th><th>float32</th><th>float64</th><th>float32</th><th>float64</th><th>float32</th><th>float64</th><th>float32</th><th>float32</th><th>float32</th></tr></thead>\n",
       "<tr><td>120.52924274596444</td><td>0.00096670596</td><td>5500</td><td>401333.16</td><td>91.52446</td><td>2598.1912</td><td>0.5752703</td><td>406145.94</td><td>130.34639</td><td>0</td><td>nan</td><td>nan</td><td>nan</td><td>nan</td><td>621.2171585774918</td><td>0.00021019123</td><td>848.8950307932943</td><td>0.0002913165</td><td>0.00019489937</td><td>-0.0025654687</td></tr>\n",
       "<tr><td>120.52992386784899</td><td>0.00096672785</td><td>5501</td><td>401288.16</td><td>91.51187</td><td>2598.1086</td><td>0.5752603</td><td>406100.9</td><td>127.528824</td><td>0</td><td>nan</td><td>nan</td><td>nan</td><td>nan</td><td>621.2181187542091</td><td>0.0002101067</td><td>848.8972881655714</td><td>0.00029125414</td><td>0.0002031729</td><td>-0.0025746305</td></tr>\n",
       "<tr><td>120.53060508973431</td><td>0.00096674974</td><td>5502</td><td>401425.53</td><td>91.53448</td><td>2598.0261</td><td>0.57525027</td><td>406242.22</td><td>125.212105</td><td>0</td><td>nan</td><td>nan</td><td>nan</td><td>nan</td><td>621.2190207168474</td><td>0.00021018942</td><td>848.8935790650855</td><td>0.0002912894</td><td>0.00021144762</td><td>-0.0025837936</td></tr>\n",
       "<tr><td>120.53128621167707</td><td>0.0009667717</td><td>5503</td><td>401172.0</td><td>91.517265</td><td>2597.9438</td><td>0.5752402</td><td>405984.03</td><td>123.31339</td><td>0</td><td>nan</td><td>nan</td><td>nan</td><td>nan</td><td>621.2179228162092</td><td>0.00021032244</td><td>848.894852260174</td><td>0.0002914222</td><td>0.00021972114</td><td>-0.0025929555</td></tr>\n",
       "<tr><td>120.53196743356966</td><td>0.00096679357</td><td>5504</td><td>401473.62</td><td>91.53064</td><td>2597.8613</td><td>0.5752302</td><td>406293.0</td><td>121.84987</td><td>0</td><td>nan</td><td>nan</td><td>nan</td><td>nan</td><td>621.2198263101714</td><td>0.00021020704</td><td>848.8961790332079</td><td>0.00029115527</td><td>0.00022799587</td><td>-0.0026021185</td></tr>\n",
       "<tr><td>120.53264855545422</td><td>0.00096681545</td><td>5505</td><td>401465.44</td><td>91.54753</td><td>2597.7788</td><td>0.5752201</td><td>406285.44</td><td>120.76684</td><td>0</td><td>nan</td><td>nan</td><td>nan</td><td>nan</td><td>621.2181449557879</td><td>0.00021010762</td><td>848.8938428073742</td><td>0.00029126246</td><td>0.00023626939</td><td>-0.0026112802</td></tr>\n",
       "<tr><td>120.53332967733877</td><td>0.00096683734</td><td>5506</td><td>401342.0</td><td>91.52074</td><td>2597.696</td><td>0.5752101</td><td>406160.03</td><td>119.99098</td><td>0</td><td>nan</td><td>nan</td><td>nan</td><td>nan</td><td>621.2196936139239</td><td>0.00021003291</td><td>848.8949354580448</td><td>0.00029143397</td><td>0.0002445429</td><td>-0.002620442</td></tr>\n",
       "<tr><td>120.53401069928077</td><td>0.0009668593</td><td>5507</td><td>401485.1</td><td>91.547424</td><td>2597.6135</td><td>0.5752001</td><td>406306.9</td><td>119.55807</td><td>0</td><td>nan</td><td>nan</td><td>nan</td><td>nan</td><td>621.217917087657</td><td>0.00021020496</td><td>848.8943553794189</td><td>0.00029132605</td><td>0.0002528152</td><td>-0.0026296026</td></tr>\n",
       "<tr><td>120.53469192116609</td><td>0.00096688117</td><td>5508</td><td>401244.03</td><td>91.507996</td><td>2597.531</td><td>0.57519</td><td>406061.28</td><td>119.339294</td><td>0</td><td>nan</td><td>nan</td><td>nan</td><td>nan</td><td>621.2198208358801</td><td>0.00021007679</td><td>848.8961781439671</td><td>0.0002913169</td><td>0.00026108994</td><td>-0.0026387656</td></tr>\n",
       "<tr><td>120.53537304305792</td><td>0.00096690306</td><td>5509</td><td>401389.53</td><td>91.52809</td><td>2597.4485</td><td>0.57518</td><td>406210.53</td><td>119.39404</td><td>0</td><td>nan</td><td>nan</td><td>nan</td><td>nan</td><td>621.2175075780503</td><td>0.00021003227</td><td>848.8945715590421</td><td>0.00029133196</td><td>0.00026936346</td><td>-0.0026479273</td></tr>\n",
       "<tr><td>...</td><td>...</td><td>...</td><td>...</td><td>...</td><td>...</td><td>...</td><td>...</td><td>...</td><td>...</td><td>...</td><td>...</td><td>...</td><td>...</td><td>...</td><td>...</td><td>...</td><td>...</td><td>...</td><td>...</td></tr>\n",
       "<tr><td>130.24913244819618</td><td>0.0012751082</td><td>19770</td><td>401215.84</td><td>91.56068</td><td>2523.5752</td><td>0.5741624</td><td>406362.44</td><td>128.0373</td><td>0</td><td>nan</td><td>nan</td><td>nan</td><td>nan</td><td>621.213575528493</td><td>0.000210523</td><td>848.9070530929123</td><td>0.00029242298</td><td>-0.0035082705</td><td>0.0040041986</td></tr>\n",
       "<tr><td>130.24981356938224</td><td>0.0012751294</td><td>19771</td><td>400872.66</td><td>91.52745</td><td>2523.5715</td><td>0.5741872</td><td>406013.47</td><td>129.58176</td><td>0</td><td>nan</td><td>nan</td><td>nan</td><td>nan</td><td>621.2125173585556</td><td>0.00021062483</td><td>848.9071673991684</td><td>0.00029279906</td><td>-0.003506454</td><td>0.003995794</td></tr>\n",
       "<tr><td>130.25049469068472</td><td>0.0012751507</td><td>19772</td><td>401253.78</td><td>91.56428</td><td>2523.5676</td><td>0.5742121</td><td>406404.72</td><td>131.36784</td><td>0</td><td>nan</td><td>nan</td><td>nan</td><td>nan</td><td>621.2141755742464</td><td>0.00021033209</td><td>848.9068239875585</td><td>0.0002923415</td><td>-0.0035046374</td><td>0.0039873896</td></tr>\n",
       "<tr><td>130.2511757118773</td><td>0.0012751719</td><td>19773</td><td>401278.38</td><td>91.566986</td><td>2523.564</td><td>0.5742369</td><td>406431.75</td><td>133.33853</td><td>0</td><td>nan</td><td>nan</td><td>nan</td><td>nan</td><td>621.2128017560995</td><td>0.00021041055</td><td>848.907690347171</td><td>0.00029253765</td><td>-0.003502821</td><td>0.0039789863</td></tr>\n",
       "<tr><td>130.25185693318053</td><td>0.0012751932</td><td>19774</td><td>401119.53</td><td>91.55202</td><td>2523.5603</td><td>0.5742618</td><td>406271.5</td><td>135.52182</td><td>0</td><td>nan</td><td>nan</td><td>nan</td><td>nan</td><td>621.2138363044833</td><td>0.00021049124</td><td>848.9075830220629</td><td>0.00029264443</td><td>-0.0035010043</td><td>0.0039705806</td></tr>\n",
       "<tr><td>130.2525380543666</td><td>0.0012752144</td><td>19775</td><td>401032.16</td><td>91.542305</td><td>2523.5564</td><td>0.57428664</td><td>406184.44</td><td>137.94724</td><td>8192</td><td>nan</td><td>nan</td><td>nan</td><td>nan</td><td>621.2133432258189</td><td>0.00021043677</td><td>848.906233071851</td><td>0.00029250525</td><td>-0.0034991878</td><td>0.003962176</td></tr>\n",
       "<tr><td>130.25321927555342</td><td>0.0012752356</td><td>19776</td><td>401037.9</td><td>91.54427</td><td>2523.5525</td><td>0.57431144</td><td>406192.66</td><td>140.63411</td><td>0</td><td>nan</td><td>nan</td><td>nan</td><td>nan</td><td>621.2133843381365</td><td>0.00021052042</td><td>848.9073622114987</td><td>0.0002924626</td><td>-0.0034973708</td><td>0.0039537703</td></tr>\n",
       "<tr><td>130.2539003968559</td><td>0.0012752569</td><td>19777</td><td>401030.56</td><td>91.54333</td><td>2523.5486</td><td>0.5743363</td><td>406187.66</td><td>143.58678</td><td>0</td><td>nan</td><td>nan</td><td>nan</td><td>nan</td><td>621.213140266073</td><td>0.00021052334</td><td>848.9064919258589</td><td>0.0002926672</td><td>-0.0034955542</td><td>0.0039453655</td></tr>\n",
       "<tr><td>130.25458151804924</td><td>0.001275278</td><td>19778</td><td>401081.12</td><td>91.546074</td><td>2523.545</td><td>0.57436115</td><td>406241.9</td><td>146.82364</td><td>0</td><td>nan</td><td>nan</td><td>nan</td><td>nan</td><td>621.2132460336312</td><td>0.0002104839</td><td>848.9067573917755</td><td>0.00029266125</td><td>-0.0034937377</td><td>0.0039369613</td></tr>\n",
       "<tr><td>130.25526273935247</td><td>0.0012752993</td><td>19779</td><td>401213.72</td><td>91.559586</td><td>2523.5413</td><td>0.57438594</td><td>406380.16</td><td>150.36244</td><td>0</td><td>nan</td><td>nan</td><td>nan</td><td>nan</td><td>621.2142768711208</td><td>0.00021048482</td><td>848.9090618454015</td><td>0.00029292068</td><td>-0.0034919207</td><td>0.003928555</td></tr>\n",
       "</table>"
      ],
      "text/plain": [
       "<Table length=14280>\n",
       "       TIME           TIMECORR   CADENCENO ...   POS_CORR1     POS_CORR2  \n",
       "     float64          float32      int32   ...    float32       float32   \n",
       "------------------ ------------- --------- ... ------------- -------------\n",
       "120.52924274596444 0.00096670596      5500 ... 0.00019489937 -0.0025654687\n",
       "120.52992386784899 0.00096672785      5501 ...  0.0002031729 -0.0025746305\n",
       "120.53060508973431 0.00096674974      5502 ... 0.00021144762 -0.0025837936\n",
       "120.53128621167707  0.0009667717      5503 ... 0.00021972114 -0.0025929555\n",
       "120.53196743356966 0.00096679357      5504 ... 0.00022799587 -0.0026021185\n",
       "120.53264855545422 0.00096681545      5505 ... 0.00023626939 -0.0026112802\n",
       "120.53332967733877 0.00096683734      5506 ...  0.0002445429  -0.002620442\n",
       "120.53401069928077  0.0009668593      5507 ...  0.0002528152 -0.0026296026\n",
       "120.53469192116609 0.00096688117      5508 ... 0.00026108994 -0.0026387656\n",
       "120.53537304305792 0.00096690306      5509 ... 0.00026936346 -0.0026479273\n",
       "               ...           ...       ... ...           ...           ...\n",
       "130.24913244819618  0.0012751082     19770 ... -0.0035082705  0.0040041986\n",
       "130.24981356938224  0.0012751294     19771 ...  -0.003506454   0.003995794\n",
       "130.25049469068472  0.0012751507     19772 ... -0.0035046374  0.0039873896\n",
       " 130.2511757118773  0.0012751719     19773 ...  -0.003502821  0.0039789863\n",
       "130.25185693318053  0.0012751932     19774 ... -0.0035010043  0.0039705806\n",
       " 130.2525380543666  0.0012752144     19775 ... -0.0034991878   0.003962176\n",
       "130.25321927555342  0.0012752356     19776 ... -0.0034973708  0.0039537703\n",
       " 130.2539003968559  0.0012752569     19777 ... -0.0034955542  0.0039453655\n",
       "130.25458151804924   0.001275278     19778 ... -0.0034937377  0.0039369613\n",
       "130.25526273935247  0.0012752993     19779 ... -0.0034919207   0.003928555"
      ]
     },
     "execution_count": 5,
     "metadata": {},
     "output_type": "execute_result"
    }
   ],
   "source": [
    "hdul.info()\n",
    "data=hdul[1].data\n",
    "Data=astropy.table.Table(data)\n",
    "Data"
   ]
  },
  {
   "cell_type": "code",
   "execution_count": 6,
   "metadata": {},
   "outputs": [
    {
     "data": {
      "text/plain": [
       "array([[1, 1, 1, 1, 1, 1, 1, 0],\n",
       "       [1, 1, 1, 5, 5, 5, 5, 1],\n",
       "       [1, 1, 5, 5, 7, 7, 5, 5],\n",
       "       [1, 1, 5, 7, 7, 7, 7, 5],\n",
       "       [1, 1, 5, 7, 7, 7, 7, 5],\n",
       "       [1, 1, 5, 7, 7, 7, 7, 5],\n",
       "       [1, 1, 5, 7, 7, 7, 5, 5],\n",
       "       [1, 1, 5, 5, 7, 5, 5, 1],\n",
       "       [1, 1, 1, 5, 5, 5, 1, 0]])"
      ]
     },
     "execution_count": 6,
     "metadata": {},
     "output_type": "execute_result"
    }
   ],
   "source": [
    "hdul[2].data"
   ]
  },
  {
   "cell_type": "code",
   "execution_count": 7,
   "metadata": {},
   "outputs": [
    {
     "data": {
      "text/html": [
       "&lt;Column name=&apos;SAP_FLUX&apos; dtype=&apos;float32&apos; length=14280&gt;\n",
       "<table>\n",
       "<tr><td>401333.16</td></tr>\n",
       "<tr><td>401288.16</td></tr>\n",
       "<tr><td>401425.53</td></tr>\n",
       "<tr><td>401172.0</td></tr>\n",
       "<tr><td>401473.62</td></tr>\n",
       "<tr><td>401465.44</td></tr>\n",
       "<tr><td>401342.0</td></tr>\n",
       "<tr><td>401485.1</td></tr>\n",
       "<tr><td>401244.03</td></tr>\n",
       "<tr><td>401389.53</td></tr>\n",
       "<tr><td>401256.7</td></tr>\n",
       "<tr><td>401313.1</td></tr>\n",
       "<tr><td>...</td></tr>\n",
       "<tr><td>401095.34</td></tr>\n",
       "<tr><td>401355.0</td></tr>\n",
       "<tr><td>401215.84</td></tr>\n",
       "<tr><td>400872.66</td></tr>\n",
       "<tr><td>401253.78</td></tr>\n",
       "<tr><td>401278.38</td></tr>\n",
       "<tr><td>401119.53</td></tr>\n",
       "<tr><td>401032.16</td></tr>\n",
       "<tr><td>401037.9</td></tr>\n",
       "<tr><td>401030.56</td></tr>\n",
       "<tr><td>401081.12</td></tr>\n",
       "<tr><td>401213.72</td></tr>\n",
       "</table>"
      ],
      "text/plain": [
       "<Column name='SAP_FLUX' dtype='float32' length=14280>\n",
       "401333.16\n",
       "401288.16\n",
       "401425.53\n",
       " 401172.0\n",
       "401473.62\n",
       "401465.44\n",
       " 401342.0\n",
       " 401485.1\n",
       "401244.03\n",
       "401389.53\n",
       " 401256.7\n",
       " 401313.1\n",
       "      ...\n",
       "401095.34\n",
       " 401355.0\n",
       "401215.84\n",
       "400872.66\n",
       "401253.78\n",
       "401278.38\n",
       "401119.53\n",
       "401032.16\n",
       " 401037.9\n",
       "401030.56\n",
       "401081.12\n",
       "401213.72"
      ]
     },
     "execution_count": 7,
     "metadata": {},
     "output_type": "execute_result"
    }
   ],
   "source": [
    "Flux=Data['SAP_FLUX']\n",
    "Flux"
   ]
  },
  {
   "cell_type": "code",
   "execution_count": 8,
   "metadata": {},
   "outputs": [
    {
     "data": {
      "text/plain": [
       "401288.16"
      ]
     },
     "execution_count": 8,
     "metadata": {},
     "output_type": "execute_result"
    }
   ],
   "source": [
    "Flux[1]"
   ]
  },
  {
   "cell_type": "code",
   "execution_count": 9,
   "metadata": {},
   "outputs": [],
   "source": [
    "lstf=[]"
   ]
  },
  {
   "cell_type": "code",
   "execution_count": 10,
   "metadata": {},
   "outputs": [
    {
     "data": {
      "text/plain": [
       "14280"
      ]
     },
     "execution_count": 10,
     "metadata": {},
     "output_type": "execute_result"
    }
   ],
   "source": [
    "for i in Flux:\n",
    "    lstf.append(i)\n",
    "len(lstf)"
   ]
  },
  {
   "cell_type": "code",
   "execution_count": 11,
   "metadata": {},
   "outputs": [],
   "source": [
    "Time=Data['TIME']"
   ]
  },
  {
   "cell_type": "code",
   "execution_count": 12,
   "metadata": {},
   "outputs": [],
   "source": [
    "lstt=[]"
   ]
  },
  {
   "cell_type": "code",
   "execution_count": 13,
   "metadata": {},
   "outputs": [
    {
     "data": {
      "text/plain": [
       "14280"
      ]
     },
     "execution_count": 13,
     "metadata": {},
     "output_type": "execute_result"
    }
   ],
   "source": [
    "for i in Time:\n",
    "    lstt.append(i)\n",
    "len(lstt)"
   ]
  },
  {
   "cell_type": "code",
   "execution_count": 15,
   "metadata": {},
   "outputs": [
    {
     "data": {
      "text/plain": [
       "Text(0,0.5,'Flux')"
      ]
     },
     "execution_count": 15,
     "metadata": {},
     "output_type": "execute_result"
    },
    {
     "data": {
      "image/png": "[encoded data removed]",
      "text/plain": [
       "<Figure size 432x288 with 1 Axes>"
      ]
     },
     "metadata": {
      "needs_background": "light"
     },
     "output_type": "display_data"
    }
   ],
   "source": [
    "plt.plot(lstt,lstf,label=['Time','Intensity'],marker='.')\n",
    "plt.legend()\n",
    "plt.xlabel('Time')\n",
    "plt.ylabel('Flux')\n"
   ]
  },
  {
   "cell_type": "code",
   "execution_count": null,
   "metadata": {},
   "outputs": [],
   "source": []
  }
 ],
 "metadata": {
  "kernelspec": {
   "display_name": "Python 3",
   "language": "python",
   "name": "python3"
  },
  "language_info": {
   "codemirror_mode": {
    "name": "ipython",
    "version": 3
   },
   "file_extension": ".py",
   "mimetype": "text/x-python",
   "name": "python",
   "nbconvert_exporter": "python",
   "pygments_lexer": "ipython3",
   "version": "3.7.0"
  }
 },
 "nbformat": 4,
 "nbformat_minor": 2
}
